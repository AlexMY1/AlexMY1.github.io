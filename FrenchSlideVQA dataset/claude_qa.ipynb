{
 "cells": [
  {
   "cell_type": "markdown",
   "metadata": {},
   "source": [
    "## Import"
   ]
  },
  {
   "cell_type": "code",
   "execution_count": 1,
   "metadata": {},
   "outputs": [],
   "source": [
    "import anthropic\n",
    "import google.generativeai as genai\n",
    "import glob\n",
    "import os\n",
    "import base64\n",
    "from time import sleep\n",
    "import json"
   ]
  },
  {
   "cell_type": "markdown",
   "metadata": {},
   "source": [
    "## Preprocess"
   ]
  },
  {
   "cell_type": "code",
   "execution_count": 2,
   "metadata": {},
   "outputs": [],
   "source": [
    "DATA_PATH = \"data\""
   ]
  },
  {
   "cell_type": "code",
   "execution_count": 3,
   "metadata": {},
   "outputs": [],
   "source": [
    "def get_data(dir) :\n",
    "    \"\"\"\n",
    "    get file names of the directory dir\n",
    "    Input:\n",
    "    dir: str-like, name of the slideshow\n",
    "    Output :\n",
    "    fnames: list[str], list of fnames\n",
    "    \"\"\"\n",
    "    fnames = glob.glob(f\"{DATA_PATH}/{dir}/*.jpg\")\n",
    "    return fnames"
   ]
  },
  {
   "cell_type": "code",
   "execution_count": 4,
   "metadata": {},
   "outputs": [],
   "source": [
    "def encode_image(image_path):\n",
    "  with open(image_path, \"rb\") as image_file:\n",
    "    return base64.b64encode(image_file.read()).decode('utf-8')"
   ]
  },
  {
   "cell_type": "code",
   "execution_count": 5,
   "metadata": {},
   "outputs": [],
   "source": [
    "def send_prompt_to_claude(base64_image,image_type,prompt) :\n",
    "    claude = anthropic.Anthropic()\n",
    "    message = claude.messages.create(\n",
    "    model=\"claude-3-5-sonnet-20240620\",\n",
    "    max_tokens=1024,\n",
    "    messages=[{\"role\": \"user\",\"content\": [{\"type\": \"image\",\"source\": {\n",
    "                        \"type\": \"base64\",\n",
    "                        \"media_type\": image_type,\n",
    "                        \"data\": base64_image,\n",
    "                    },\n",
    "                },\n",
    "                {\n",
    "                    \"type\": \"text\",\n",
    "                    \"text\": prompt\n",
    "                }\n",
    "            ]\n",
    "        }])\n",
    "    return message.content[0].text"
   ]
  },
  {
   "cell_type": "code",
   "execution_count": 6,
   "metadata": {},
   "outputs": [],
   "source": [
    "def send_prompt_to_gemini(base64_image,image_type,prompt) :\n",
    "    genai.configure(api_key=os.getenv(\"GOOGLE_API_KEY\"))\n",
    "    model = genai.GenerativeModel(model_name=\"gemini-1.5-flash\")\n",
    "    response = model.generate_content([prompt, base64_image])\n",
    "    return response.text"
   ]
  },
  {
   "cell_type": "code",
   "execution_count": 7,
   "metadata": {},
   "outputs": [],
   "source": [
    "last_dir = -1"
   ]
  },
  {
   "cell_type": "code",
   "execution_count": 8,
   "metadata": {},
   "outputs": [],
   "source": [
    "def generate_qa() :\n",
    "    global last_dir\n",
    "    listdir = sorted(os.listdir(DATA_PATH), key=lambda dir: int(dir))\n",
    "    image_type = \"image/jpeg\"\n",
    "    prompt = \"Generate only one question/answer pair about this slide. The question should be specific and descriptive enough that a user could find the relevant slide from a large collection of slides, for instance it should name the brand or company it relates to if that is relevant. The question should not be trivial and must need the visual information to be answered correctly. Both the question and the answer must be in French, in a json format [{\\\"question\\\": ..., \\\"answer\\\": ...}]. Your answer have to be return only in this format. Becareful to put double quotes on keyword question and answer in the json format. It's forbiden to generate more than one pair of question/answer\"\n",
    "    \n",
    "    for i in range(last_dir+1, len(listdir)) :\n",
    "        dir = listdir[i]\n",
    "        print(dir)\n",
    "        fnames = get_data(dir)\n",
    "        qas = []\n",
    "        for fname in fnames :\n",
    "            base64_image = encode_image(fname)\n",
    "            response = send_prompt_to_gemini(base64_image, image_type, prompt)\n",
    "            sleep(12)\n",
    "            qas.append(json.loads(response))\n",
    "        print(qas)\n",
    "        \n",
    "        json_path = f\"{DATA_PATH}/{dir}/qa_{dir}.json\"\n",
    "        if os.path.exists(json_path) : os.remove(json_path)\n",
    "        else : pass\n",
    "        with open(json_path, \"w\") as f :\n",
    "            json.dump(qas, f)\n",
    "        last_dir = i"
   ]
  },
  {
   "cell_type": "code",
   "execution_count": null,
   "metadata": {},
   "outputs": [],
   "source": [
    "generate_qa()"
   ]
  },
  {
   "cell_type": "markdown",
   "metadata": {},
   "source": [
    "## Q/A generation test"
   ]
  },
  {
   "cell_type": "code",
   "execution_count": 44,
   "metadata": {},
   "outputs": [],
   "source": [
    "prompt = \"Generate only one question/answer pair about this slide. The question should be specific and descriptive enough that a user could find the relevant slide from a large collection of slides. The question should not be trivial and must need the visual information to be answered correctly. Both the question and the answer must be in French in exactly this format [{\\\"question\\\": ..., \\\"answer\\\": ...}]. Your answer have to be return only in this format. Becareful to put double quotes on keyword question and answer.\""
   ]
  },
  {
   "cell_type": "code",
   "execution_count": 45,
   "metadata": {},
   "outputs": [
    {
     "data": {
      "text/plain": [
       "'data/955364\\\\slide_1.jpg'"
      ]
     },
     "execution_count": 45,
     "metadata": {},
     "output_type": "execute_result"
    }
   ],
   "source": [
    "fnames = get_data(\"955364\")\n",
    "fnames[1]"
   ]
  },
  {
   "cell_type": "code",
   "execution_count": 40,
   "metadata": {},
   "outputs": [],
   "source": [
    "# Getting the base64 string\n",
    "base64_image = encode_image(fnames[1])\n",
    "image_type = \"image/jpeg\""
   ]
  },
  {
   "cell_type": "code",
   "execution_count": 41,
   "metadata": {},
   "outputs": [
    {
     "data": {
      "text/plain": [
       "'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'"
      ]
     },
     "execution_count": 41,
     "metadata": {},
     "output_type": "execute_result"
    }
   ],
   "source": [
    "base64_image"
   ]
  },
  {
   "cell_type": "code",
   "execution_count": 46,
   "metadata": {},
   "outputs": [],
   "source": [
    "message = send_prompt_to_gemini(base64_image, image_type, prompt)"
   ]
  },
  {
   "cell_type": "code",
   "execution_count": 47,
   "metadata": {},
   "outputs": [
    {
     "data": {
      "text/plain": [
       "'```json\\n{\"question\": \"Quel est le nom du bâtiment représenté sur cette diapositive ?\", \"answer\": \"Le bâtiment représenté sur cette diapositive est le «\\xa0Centre Pompidou\\xa0». \"}\\n```'"
      ]
     },
     "execution_count": 47,
     "metadata": {},
     "output_type": "execute_result"
    }
   ],
   "source": [
    "message"
   ]
  },
  {
   "cell_type": "code",
   "execution_count": null,
   "metadata": {},
   "outputs": [],
   "source": [
    "claude = anthropic.Anthropic()\n",
    "message = claude.messages.create(\n",
    "    model=\"claude-3-5-sonnet-20240620\",\n",
    "    max_tokens=1024,\n",
    "    messages=[\n",
    "        {\n",
    "            \"role\": \"user\",\n",
    "            \"content\": [\n",
    "                {\n",
    "                    \"type\": \"image\",\n",
    "                    \"source\": {\n",
    "                        \"type\": \"base64\",\n",
    "                        \"media_type\": image_type,\n",
    "                        \"data\": base64_image,\n",
    "                    },\n",
    "                },\n",
    "                {\n",
    "                    \"type\": \"text\",\n",
    "                    \"text\": prompt\n",
    "                }\n",
    "            ],\n",
    "        }\n",
    "    ],\n",
    ")"
   ]
  },
  {
   "cell_type": "code",
   "execution_count": null,
   "metadata": {},
   "outputs": [
    {
     "name": "stdout",
     "output_type": "stream",
     "text": [
      "{\n",
      "  \"question\": \"Quel est le titre principal de cette diapositive sur la gastronomie, et qui est mentionné comme auteur?\",\n",
      "  \"answer\": \"Le titre principal de la diapositive est 'CUISINE FRANÇAISE', et l'auteur mentionné est Nuriyya Guliyeva.\"\n",
      "}\n"
     ]
    }
   ],
   "source": [
    "print(message.content[0].text)"
   ]
  },
  {
   "cell_type": "code",
   "execution_count": null,
   "metadata": {},
   "outputs": [],
   "source": []
  }
 ],
 "metadata": {
  "kernelspec": {
   "display_name": "Python 3",
   "language": "python",
   "name": "python3"
  },
  "language_info": {
   "codemirror_mode": {
    "name": "ipython",
    "version": 3
   },
   "file_extension": ".py",
   "mimetype": "text/x-python",
   "name": "python",
   "nbconvert_exporter": "python",
   "pygments_lexer": "ipython3",
   "version": "3.11.9"
  }
 },
 "nbformat": 4,
 "nbformat_minor": 2
}
