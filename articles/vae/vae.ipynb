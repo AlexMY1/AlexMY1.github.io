{
 "cells": [
  {
   "cell_type": "code",
   "execution_count": 20,
   "metadata": {},
   "outputs": [],
   "source": [
    "import numpy as np\n",
    "import matplotlib.pyplot as plt\n",
    "from scipy.stats import norm\n",
    "from PIL import Image"
   ]
  },
  {
   "cell_type": "code",
   "execution_count": 12,
   "metadata": {},
   "outputs": [],
   "source": [
    "mu = [0, 4, 3, 2, 1, 0]\n",
    "sigma = [1, 2.5, 2, 1.5, 1.25, 1.10]\n",
    "x = np.linspace(mu[4] - 4*sigma[4], mu[4] + 4*sigma[4], 1000)"
   ]
  },
  {
   "cell_type": "code",
   "execution_count": 13,
   "metadata": {},
   "outputs": [],
   "source": [
    "def generate_pdf(mu, sigma) :\n",
    "    return norm.pdf(x, mu, sigma)"
   ]
  },
  {
   "cell_type": "code",
   "execution_count": 19,
   "metadata": {},
   "outputs": [],
   "source": [
    "for i in range(1,6) :\n",
    "    pdf_objective = generate_pdf(mu[0], sigma[0])\n",
    "    pdf = generate_pdf(mu[i], sigma[i])\n",
    "    plt.figure()\n",
    "    plt.plot(x, pdf_objective, label='objective distribution')\n",
    "    plt.plot(x, pdf, label=f\"mu:{mu[i]}, sigma:{sigma[i]}\")\n",
    "\n",
    "    plt.xlabel('x')\n",
    "    plt.ylabel('density distribution')\n",
    "    plt.legend()\n",
    "\n",
    "    plt.savefig(f\"plot_{i}.png\")\n",
    "    plt.close()"
   ]
  },
  {
   "cell_type": "code",
   "execution_count": 24,
   "metadata": {},
   "outputs": [],
   "source": [
    "images = [Image.open(f\"plot_{i}.png\") for i in range(1,6)]\n",
    "images[0].save('animation_pillow.gif',\n",
    "               save_all=True, append_images=images[1:], duration=500, loop=0)"
   ]
  },
  {
   "cell_type": "code",
   "execution_count": null,
   "metadata": {},
   "outputs": [],
   "source": []
  }
 ],
 "metadata": {
  "kernelspec": {
   "display_name": "Python 3",
   "language": "python",
   "name": "python3"
  },
  "language_info": {
   "codemirror_mode": {
    "name": "ipython",
    "version": 3
   },
   "file_extension": ".py",
   "mimetype": "text/x-python",
   "name": "python",
   "nbconvert_exporter": "python",
   "pygments_lexer": "ipython3",
   "version": "3.12.6"
  }
 },
 "nbformat": 4,
 "nbformat_minor": 2
}
